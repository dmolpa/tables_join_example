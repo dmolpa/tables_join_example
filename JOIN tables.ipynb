{
 "cells": [
  {
   "cell_type": "markdown",
   "metadata": {},
   "source": [
    "# SQL tables to be included in the Postgres Docker image"
   ]
  },
  {
   "cell_type": "code",
   "execution_count": 1,
   "metadata": {},
   "outputs": [
    {
     "name": "stdout",
     "output_type": "stream",
     "text": [
      "Overwriting people_vaccination.sql\n"
     ]
    }
   ],
   "source": [
    "%%file people_vaccination.sql\n",
    "create table people_vaccination (\n",
    "\tid BIGSERIAL NOT NULL PRIMARY KEY,\n",
    "\tNAME VARCHAR(100) NOT NULL,\n",
    "\tLOCATION VARCHAR(100) NOT NULL,\n",
    "\tAGE SMALLINT NOT NULL CHECK (AGE > 0),\n",
    "\tIS_VACCINATED BOOLEAN NOT NULL\n",
    ");\n",
    "insert into people_vaccination (NAME, LOCATION, AGE, IS_VACCINATED) values ('Alex', 'Lviv', '45', 'TRUE');\n",
    "insert into people_vaccination (NAME, LOCATION, AGE, IS_VACCINATED) values ('Taras', 'Lviv', '52', 'FALSE');\n",
    "insert into people_vaccination (NAME, LOCATION, AGE, IS_VACCINATED) values ('Anna', 'Rivne', '22', 'FALSE');\n",
    "insert into people_vaccination (NAME, LOCATION, AGE, IS_VACCINATED) values ('Iryna', 'Odessa', '35', 'TRUE');"
   ]
  },
  {
   "cell_type": "code",
   "execution_count": 2,
   "metadata": {},
   "outputs": [
    {
     "name": "stdout",
     "output_type": "stream",
     "text": [
      "Overwriting relatives_relations.sql\n"
     ]
    }
   ],
   "source": [
    "%%file relatives_relations.sql\n",
    "create table relatives_relations (\n",
    "\tid BIGSERIAL NOT NULL PRIMARY KEY,\n",
    "\tID_people_vaccinated BIGINT NOT NULL,\n",
    "\tNAME VARCHAR(100) NOT NULL,\n",
    "\tCOUNTRY VARCHAR(100) NOT NULL,\n",
    "\tIS_VACCINATED BOOLEAN NOT NULL\n",
    ");\n",
    "insert into relatives_relations (ID_people_vaccinated, NAME, COUNTRY, IS_VACCINATED) values ('2', 'Relative1', 'Ukraine', 'FALSE');\n",
    "insert into relatives_relations (ID_people_vaccinated, NAME, COUNTRY, IS_VACCINATED) values ('2', 'Relative2', 'Ukraine', 'FALSE');\n",
    "insert into relatives_relations (ID_people_vaccinated, NAME, COUNTRY, IS_VACCINATED) values ('3', 'Relative3', 'Ukraine', 'TRUE');\n",
    "insert into relatives_relations (ID_people_vaccinated, NAME, COUNTRY, IS_VACCINATED) values ('1', 'Relative4', 'Poland', 'FALSE');"
   ]
  },
  {
   "cell_type": "markdown",
   "metadata": {},
   "source": [
    "# Create a Postgres Docker image"
   ]
  },
  {
   "cell_type": "code",
   "execution_count": 3,
   "metadata": {},
   "outputs": [
    {
     "name": "stdout",
     "output_type": "stream",
     "text": [
      "········\n"
     ]
    }
   ],
   "source": [
    "from getpass import getpass\n",
    "\n",
    "postgresql_password = getpass()"
   ]
  },
  {
   "cell_type": "code",
   "execution_count": 4,
   "metadata": {},
   "outputs": [
    {
     "name": "stdout",
     "output_type": "stream",
     "text": [
      "Overwriting Dockerfile\n"
     ]
    }
   ],
   "source": [
    "%%file Dockerfile\n",
    "FROM postgres:9.6\n",
    "ENV POSTGRES_USER postgres\n",
    "ENV POSTGRES_PASSWORD postgresql_password\n",
    "ENV POSTGRES_DB vaccinated_people\n",
    "ADD people_vaccination.sql /docker-entrypoint-initdb.d/\n",
    "ADD relatives_relations.sql /docker-entrypoint-initdb.d/\n",
    "RUN apt update\n",
    "RUN apt install sudo\n"
   ]
  },
  {
   "cell_type": "markdown",
   "metadata": {},
   "source": [
    "> Build:\n",
    "\n",
    "```sudo docker build -t postgres-example .```\n",
    "\n",
    "> Run:\n",
    "\n",
    "```sudo docker run -d postgres-example```\n",
    "\n",
    "> Container's bash:\n",
    "\n",
    "```sudo docker exec -it ``` container name or container id ``` bash```\n",
    "\n",
    "```sudo docker exec -it id bash```\n",
    "\n",
    "> psql:\n",
    "\n",
    "```sudo -u postgres -i```\n",
    "\n",
    "```psql```\n",
    "\n",
    "```\\list```\n",
    "\n",
    "```\\c vaccinated_people```\n",
    "\n",
    "```\\dt```\n",
    "\n",
    "> SQL queries:\n",
    "\n",
    "```SELECT * FROM people_vaccination;```\n",
    "\n",
    "```SELECT * FROM relatives_relations;```\n",
    "\n",
    "> JOIN with relatives\n",
    "\n",
    "```SELECT \n",
    "    people_vaccination.name,\n",
    "    people_vaccination.location,\n",
    "    people_vaccination.age,\n",
    "    people_vaccination.is_vaccinated,\n",
    "    relatives_relations.name,\n",
    "    relatives_relations.country,\n",
    "    relatives_relations.is_vaccinated\n",
    "FROM people_vaccination \n",
    "INNER JOIN relatives_relations \n",
    "ON people_vaccination.ID = id_people_vaccinated;```\n",
    "\n",
    "> Logs:\n",
    "\n",
    "```sudo docker logs ``` container_name or container_id"
   ]
  },
  {
   "cell_type": "markdown",
   "metadata": {},
   "source": [
    "# Use Python to query tables\n",
    "\n",
    "> Restart container with:\n",
    "\n",
    "``` \n",
    "sudo docker ps\n",
    "sudo docker stop RUNNING_CONTAINER_NAME_OR_ID\n",
    "sudo docker run -e POSTGRES_PASSWORD=PASSWORD -d -p 5433:5432 postgres-example```"
   ]
  },
  {
   "cell_type": "code",
   "execution_count": null,
   "metadata": {},
   "outputs": [],
   "source": [
    "!pip install tabulate"
   ]
  },
  {
   "cell_type": "code",
   "execution_count": 5,
   "metadata": {},
   "outputs": [],
   "source": [
    "# for prettier tables output\n",
    "from tabulate import tabulate"
   ]
  },
  {
   "cell_type": "code",
   "execution_count": 6,
   "metadata": {},
   "outputs": [],
   "source": [
    "import psycopg2\n",
    "\n",
    "conn = psycopg2.connect(f\"host=localhost dbname=vaccinated_people user=postgres password={postgresql_password} port=5433\")"
   ]
  },
  {
   "cell_type": "code",
   "execution_count": 7,
   "metadata": {},
   "outputs": [
    {
     "data": {
      "text/html": [
       "<style>.container { width:98% !important; }</style>"
      ],
      "text/plain": [
       "<IPython.core.display.HTML object>"
      ]
     },
     "metadata": {},
     "output_type": "display_data"
    },
    {
     "data": {
      "application/vnd.jupyter.widget-view+json": {
       "model_id": "f0896b811f854b249273c78bba2b99a6",
       "version_major": 2,
       "version_minor": 0
      },
      "text/plain": [
       "Textarea(value='SELECT \\n    people_vaccination.name,\\n    people_vaccination.location,\\n    people_vaccinatio…"
      ]
     },
     "metadata": {},
     "output_type": "display_data"
    }
   ],
   "source": [
    "# for convenience of handling long queries\n",
    "import ipywidgets as widgets\n",
    "from ipywidgets import Layout\n",
    "\n",
    "from IPython.core.display import display, HTML\n",
    "display(HTML(\"<style>.container { width:98% !important; }</style>\"))\n",
    "\n",
    "query = 'SELECT \\n    people_vaccination.name,\\n    people_vaccination.location,\\n    people_vaccination.age,\\n    people_vaccination.is_vaccinated,\\n    relatives_relations.name,\\n    relatives_relations.country,\\n    relatives_relations.is_vaccinated\\nFROM people_vaccination \\nJOIN relatives_relations \\nON people_vaccination.ID = id_people_vaccinated;'\n",
    "\n",
    "query_box = widgets.Textarea(value=query, placeholder='SQL query', description='SQL query', disabled=False, layout=Layout(width='100%', height='300px'), continuous_update = True)\n",
    "\n",
    "display(query_box)"
   ]
  },
  {
   "cell_type": "code",
   "execution_count": 8,
   "metadata": {},
   "outputs": [
    {
     "name": "stdout",
     "output_type": "stream",
     "text": [
      "('Alex', 'Lviv', 45, True, 'Relative4', 'Poland', False)\n",
      "('Taras', 'Lviv', 52, False, 'Relative2', 'Ukraine', False)\n",
      "('Taras', 'Lviv', 52, False, 'Relative1', 'Ukraine', False)\n",
      "('Anna', 'Rivne', 22, False, 'Relative3', 'Ukraine', True)\n"
     ]
    }
   ],
   "source": [
    "with conn:\n",
    "    with conn.cursor() as curs:\n",
    "        curs.execute(query_box.value)\n",
    "        rows = curs.fetchall()\n",
    "        \n",
    "        for row in rows:\n",
    "            print(row)\n"
   ]
  },
  {
   "cell_type": "code",
   "execution_count": 9,
   "metadata": {},
   "outputs": [
    {
     "name": "stdout",
     "output_type": "stream",
     "text": [
      "------------------------------\"people_vaccination\"------------------------------\n",
      "  id  name    location      age  is_vaccinated\n",
      "----  ------  ----------  -----  ---------------\n",
      "   1  Alex    Lviv           45  True\n",
      "   2  Taras   Lviv           52  False\n",
      "   3  Anna    Rivne          22  False\n",
      "   4  Iryna   Odessa         35  True\n",
      "\n",
      "------------------------------\"relatives_relations\"------------------------------\n",
      "  id    id_people_vaccinated  name       country    is_vaccinated\n",
      "----  ----------------------  ---------  ---------  ---------------\n",
      "   1                       2  Relative1  Ukraine    False\n",
      "   2                       2  Relative2  Ukraine    False\n",
      "   3                       3  Relative3  Ukraine    True\n",
      "   4                       1  Relative4  Poland     False\n",
      "\n"
     ]
    }
   ],
   "source": [
    "table1Name = \"people_vaccination\"\n",
    "table2Name = \"relatives_relations\"\n",
    "\n",
    "def print_table_content(tableName, max_items_to_print=10):\n",
    "    with conn:\n",
    "        with conn.cursor() as curs:\n",
    "            curs.execute(f\"SELECT column_name FROM INFORMATION_SCHEMA. COLUMNS WHERE TABLE_NAME = '{tableName}'\")\n",
    "            column_names = curs.fetchall()\n",
    "\n",
    "            column_names = [column_name[0] for column_name in column_names]\n",
    "\n",
    "            curs.execute(f\"SELECT * FROM {tableName}\")\n",
    "            rows = curs.fetchall()\n",
    "            print(f'{\"-\"*30}\"{tableName}\"{\"-\"*30}')\n",
    "            print(tabulate(rows[:max_items_to_print], headers=column_names), end='\\n'*2)\n",
    "            \n",
    "print_table_content(table1Name)\n",
    "print_table_content(table2Name)"
   ]
  },
  {
   "cell_type": "code",
   "execution_count": 10,
   "metadata": {},
   "outputs": [],
   "source": [
    "conn.close()"
   ]
  },
  {
   "cell_type": "code",
   "execution_count": null,
   "metadata": {},
   "outputs": [],
   "source": []
  }
 ],
 "metadata": {
  "kernelspec": {
   "display_name": "Python 3",
   "language": "python",
   "name": "python3"
  },
  "language_info": {
   "codemirror_mode": {
    "name": "ipython",
    "version": 3
   },
   "file_extension": ".py",
   "mimetype": "text/x-python",
   "name": "python",
   "nbconvert_exporter": "python",
   "pygments_lexer": "ipython3",
   "version": "3.8.10"
  }
 },
 "nbformat": 4,
 "nbformat_minor": 4
}
